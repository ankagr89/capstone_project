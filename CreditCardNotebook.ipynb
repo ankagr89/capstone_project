{
 "cells": [
  {
   "cell_type": "markdown",
   "id": "db95bfa5",
   "metadata": {},
   "source": [
    "# Detecting Credit Card Transaction Fraud using Machine Learning"
   ]
  },
  {
   "cell_type": "markdown",
   "id": "e3415dd8",
   "metadata": {},
   "source": [
    "Consumers lost over $6 billion to online credity card fraud in 2021 as per the [Wall Street Journal](https://www.wsj.com/articles/borrower-beware-credit-card-fraud-attempts-rise-during-the-coronavirus-crisis-11590571800). Therefore, there is a need to develop tools that can alert customers and banks when such type of fradulent activity is attempted as a prevetitive measure. Treating fraudulent and non-fradulent transactions as distinct classes, this problem can be boiled down to a classification task through machine learning.\n",
    "\n",
    "Another problem that can be foreseen while developing machine learning based tools to prevent fradulent transactions is that credit card transaction data contains highly confidential personal information. Therefore, access to credit card transaction data is highly restricted.\n",
    "\n",
    "With these motivations, this notebook showcases a two step case study illustrating the power of machine learning in detecting credit card transaction fraud. In the first step, synthetic data using [Sparkov Data Generator](https://github.com/namebrandon/Sparkov_Data_Generation) was generated for 500 customers from 1-1-2019 to 12-31-2021 for over 1.5 million unique transactions. The generated data resembles realistic credit card transaction data and can be used for training machine learning models. The feature engineering and data augmentation techniques such as SMOTE can be applied to improve model performance on real life data for classification of fraudulent from non-fraudulent transactions."
   ]
  },
  {
   "cell_type": "code",
   "execution_count": 1,
   "id": "eac0fa8c",
   "metadata": {},
   "outputs": [
    {
     "name": "stderr",
     "output_type": "stream",
     "text": [
      "E:\\anaconda_installer\\anaconda3\\lib\\site-packages\\xgboost\\compat.py:36: FutureWarning: pandas.Int64Index is deprecated and will be removed from pandas in a future version. Use pandas.Index with the appropriate dtype instead.\n",
      "  from pandas import MultiIndex, Int64Index\n"
     ]
    }
   ],
   "source": [
    "# Import libraries\n",
    "import pandas as pd\n",
    "import glob\n",
    "import pandas as pd\n",
    "import numpy as np\n",
    "\n",
    "import matplotlib.pyplot  as plt\n",
    "import seaborn as sns\n",
    "import plotly.express as px\n",
    "import plotly.io as pio\n",
    "\n",
    "from sklearn.preprocessing import OrdinalEncoder\n",
    "from sklearn.model_selection import train_test_split\n",
    "from xgboost import XGBClassifier\n",
    "from sklearn.metrics import confusion_matrix\n",
    "from sklearn.metrics import classification_report\n",
    "\n",
    "from collections import Counter\n",
    "from imblearn.over_sampling import SMOTE"
   ]
  },
  {
   "cell_type": "markdown",
   "id": "5e2faec6",
   "metadata": {},
   "source": [
    "# Data Generation and Ingestion"
   ]
  },
  {
   "cell_type": "markdown",
   "id": "4b05fd84",
   "metadata": {},
   "source": [
    "The data was generated using [Sparkov Data Generator](https://github.com/namebrandon/Sparkov_Data_Generation) for 500 unique customer profiles and between dates 1-1-2019 and 12-31-2021. The following command was used to generate synthetic data resulting in over 1.5 million unique transactions:\n",
    "- python datagen.py -n 500 -o \".\\data\\transactions\" 1-1-2019 12-31-2021"
   ]
  },
  {
   "cell_type": "code",
   "execution_count": 2,
   "id": "8f8a721e",
   "metadata": {},
   "outputs": [],
   "source": [
    "# Get CSV files list from a folder\n",
    "csv_files = glob.glob('C:/Sparkov_Data_Generation-master/data/transactions/*.csv')\n",
    "# Create a list of CSV files\n",
    "df_list = (pd.read_csv(file, sep = '|') for file in csv_files)\n",
    "# Concatenate all CSV files\n",
    "df = pd.concat(df_list, ignore_index=True)"
   ]
  },
  {
   "cell_type": "code",
   "execution_count": 3,
   "id": "29b74446",
   "metadata": {},
   "outputs": [
    {
     "data": {
      "text/plain": [
       "1529862"
      ]
     },
     "execution_count": 3,
     "metadata": {},
     "output_type": "execute_result"
    }
   ],
   "source": [
    "len(df)"
   ]
  },
  {
   "cell_type": "code",
   "execution_count": 4,
   "id": "125fbcc2",
   "metadata": {},
   "outputs": [
    {
     "data": {
      "text/html": [
       "<div>\n",
       "<style scoped>\n",
       "    .dataframe tbody tr th:only-of-type {\n",
       "        vertical-align: middle;\n",
       "    }\n",
       "\n",
       "    .dataframe tbody tr th {\n",
       "        vertical-align: top;\n",
       "    }\n",
       "\n",
       "    .dataframe thead th {\n",
       "        text-align: right;\n",
       "    }\n",
       "</style>\n",
       "<table border=\"1\" class=\"dataframe\">\n",
       "  <thead>\n",
       "    <tr style=\"text-align: right;\">\n",
       "      <th></th>\n",
       "      <th>ssn</th>\n",
       "      <th>cc_num</th>\n",
       "      <th>first</th>\n",
       "      <th>last</th>\n",
       "      <th>gender</th>\n",
       "      <th>street</th>\n",
       "      <th>city</th>\n",
       "      <th>state</th>\n",
       "      <th>zip</th>\n",
       "      <th>lat</th>\n",
       "      <th>...</th>\n",
       "      <th>trans_num</th>\n",
       "      <th>trans_date</th>\n",
       "      <th>trans_time</th>\n",
       "      <th>unix_time</th>\n",
       "      <th>category</th>\n",
       "      <th>amt</th>\n",
       "      <th>is_fraud</th>\n",
       "      <th>merchant</th>\n",
       "      <th>merch_lat</th>\n",
       "      <th>merch_long</th>\n",
       "    </tr>\n",
       "  </thead>\n",
       "  <tbody>\n",
       "    <tr>\n",
       "      <th>0</th>\n",
       "      <td>186-89-2713</td>\n",
       "      <td>3506537947383471</td>\n",
       "      <td>Stephanie</td>\n",
       "      <td>Lee</td>\n",
       "      <td>F</td>\n",
       "      <td>4688 Burch Viaduct Apt. 924</td>\n",
       "      <td>Windsor</td>\n",
       "      <td>IL</td>\n",
       "      <td>61957</td>\n",
       "      <td>39.4302</td>\n",
       "      <td>...</td>\n",
       "      <td>6b024ce35dcc06e8d0cc28c3f2fd51af</td>\n",
       "      <td>2021-08-06</td>\n",
       "      <td>01:25:43</td>\n",
       "      <td>1628193343</td>\n",
       "      <td>grocery_pos</td>\n",
       "      <td>14.03</td>\n",
       "      <td>1</td>\n",
       "      <td>Murray-Smitham,</td>\n",
       "      <td>40.037349</td>\n",
       "      <td>-87.855038</td>\n",
       "    </tr>\n",
       "    <tr>\n",
       "      <th>1</th>\n",
       "      <td>186-89-2713</td>\n",
       "      <td>3506537947383471</td>\n",
       "      <td>Stephanie</td>\n",
       "      <td>Lee</td>\n",
       "      <td>F</td>\n",
       "      <td>4688 Burch Viaduct Apt. 924</td>\n",
       "      <td>Windsor</td>\n",
       "      <td>IL</td>\n",
       "      <td>61957</td>\n",
       "      <td>39.4302</td>\n",
       "      <td>...</td>\n",
       "      <td>1128f147c155033ab540cd40428d6649</td>\n",
       "      <td>2021-08-06</td>\n",
       "      <td>00:56:36</td>\n",
       "      <td>1628191596</td>\n",
       "      <td>shopping_net</td>\n",
       "      <td>303.33</td>\n",
       "      <td>1</td>\n",
       "      <td>Ruecker, Beer and Collier</td>\n",
       "      <td>39.961071</td>\n",
       "      <td>-88.489646</td>\n",
       "    </tr>\n",
       "    <tr>\n",
       "      <th>2</th>\n",
       "      <td>186-89-2713</td>\n",
       "      <td>3506537947383471</td>\n",
       "      <td>Stephanie</td>\n",
       "      <td>Lee</td>\n",
       "      <td>F</td>\n",
       "      <td>4688 Burch Viaduct Apt. 924</td>\n",
       "      <td>Windsor</td>\n",
       "      <td>IL</td>\n",
       "      <td>61957</td>\n",
       "      <td>39.4302</td>\n",
       "      <td>...</td>\n",
       "      <td>5574cfe72f4c3aa3c89aefc99028e0cd</td>\n",
       "      <td>2021-08-06</td>\n",
       "      <td>02:54:27</td>\n",
       "      <td>1628198667</td>\n",
       "      <td>shopping_net</td>\n",
       "      <td>862.15</td>\n",
       "      <td>1</td>\n",
       "      <td>Gleason-Macejkovic,</td>\n",
       "      <td>39.733953</td>\n",
       "      <td>-87.967541</td>\n",
       "    </tr>\n",
       "    <tr>\n",
       "      <th>3</th>\n",
       "      <td>186-89-2713</td>\n",
       "      <td>3506537947383471</td>\n",
       "      <td>Stephanie</td>\n",
       "      <td>Lee</td>\n",
       "      <td>F</td>\n",
       "      <td>4688 Burch Viaduct Apt. 924</td>\n",
       "      <td>Windsor</td>\n",
       "      <td>IL</td>\n",
       "      <td>61957</td>\n",
       "      <td>39.4302</td>\n",
       "      <td>...</td>\n",
       "      <td>202c79e6b473cb8a508799c94a629d5c</td>\n",
       "      <td>2021-08-06</td>\n",
       "      <td>03:48:51</td>\n",
       "      <td>1628201931</td>\n",
       "      <td>gas_transport</td>\n",
       "      <td>1179.11</td>\n",
       "      <td>1</td>\n",
       "      <td>Corwin-Collins,</td>\n",
       "      <td>39.010562</td>\n",
       "      <td>-88.50314</td>\n",
       "    </tr>\n",
       "    <tr>\n",
       "      <th>4</th>\n",
       "      <td>186-89-2713</td>\n",
       "      <td>3506537947383471</td>\n",
       "      <td>Stephanie</td>\n",
       "      <td>Lee</td>\n",
       "      <td>F</td>\n",
       "      <td>4688 Burch Viaduct Apt. 924</td>\n",
       "      <td>Windsor</td>\n",
       "      <td>IL</td>\n",
       "      <td>61957</td>\n",
       "      <td>39.4302</td>\n",
       "      <td>...</td>\n",
       "      <td>9ce8b478409bad7c762d65c9595c9fd4</td>\n",
       "      <td>2021-08-06</td>\n",
       "      <td>00:49:27</td>\n",
       "      <td>1628191167</td>\n",
       "      <td>misc_pos</td>\n",
       "      <td>871.76</td>\n",
       "      <td>1</td>\n",
       "      <td>Block Group,</td>\n",
       "      <td>40.273711</td>\n",
       "      <td>-89.112075</td>\n",
       "    </tr>\n",
       "  </tbody>\n",
       "</table>\n",
       "<p>5 rows × 26 columns</p>\n",
       "</div>"
      ],
      "text/plain": [
       "           ssn            cc_num      first last gender  \\\n",
       "0  186-89-2713  3506537947383471  Stephanie  Lee      F   \n",
       "1  186-89-2713  3506537947383471  Stephanie  Lee      F   \n",
       "2  186-89-2713  3506537947383471  Stephanie  Lee      F   \n",
       "3  186-89-2713  3506537947383471  Stephanie  Lee      F   \n",
       "4  186-89-2713  3506537947383471  Stephanie  Lee      F   \n",
       "\n",
       "                        street     city state    zip      lat  ...  \\\n",
       "0  4688 Burch Viaduct Apt. 924  Windsor    IL  61957  39.4302  ...   \n",
       "1  4688 Burch Viaduct Apt. 924  Windsor    IL  61957  39.4302  ...   \n",
       "2  4688 Burch Viaduct Apt. 924  Windsor    IL  61957  39.4302  ...   \n",
       "3  4688 Burch Viaduct Apt. 924  Windsor    IL  61957  39.4302  ...   \n",
       "4  4688 Burch Viaduct Apt. 924  Windsor    IL  61957  39.4302  ...   \n",
       "\n",
       "                          trans_num  trans_date trans_time   unix_time  \\\n",
       "0  6b024ce35dcc06e8d0cc28c3f2fd51af  2021-08-06   01:25:43  1628193343   \n",
       "1  1128f147c155033ab540cd40428d6649  2021-08-06   00:56:36  1628191596   \n",
       "2  5574cfe72f4c3aa3c89aefc99028e0cd  2021-08-06   02:54:27  1628198667   \n",
       "3  202c79e6b473cb8a508799c94a629d5c  2021-08-06   03:48:51  1628201931   \n",
       "4  9ce8b478409bad7c762d65c9595c9fd4  2021-08-06   00:49:27  1628191167   \n",
       "\n",
       "        category      amt is_fraud                    merchant  merch_lat  \\\n",
       "0    grocery_pos    14.03        1             Murray-Smitham,  40.037349   \n",
       "1   shopping_net   303.33        1   Ruecker, Beer and Collier  39.961071   \n",
       "2   shopping_net   862.15        1         Gleason-Macejkovic,  39.733953   \n",
       "3  gas_transport  1179.11        1             Corwin-Collins,  39.010562   \n",
       "4       misc_pos   871.76        1                Block Group,  40.273711   \n",
       "\n",
       "  merch_long  \n",
       "0 -87.855038  \n",
       "1 -88.489646  \n",
       "2 -87.967541  \n",
       "3  -88.50314  \n",
       "4 -89.112075  \n",
       "\n",
       "[5 rows x 26 columns]"
      ]
     },
     "execution_count": 4,
     "metadata": {},
     "output_type": "execute_result"
    }
   ],
   "source": [
    "df.head()"
   ]
  },
  {
   "cell_type": "code",
   "execution_count": 5,
   "id": "767bc9b5",
   "metadata": {},
   "outputs": [
    {
     "name": "stdout",
     "output_type": "stream",
     "text": [
      "<class 'pandas.core.frame.DataFrame'>\n",
      "RangeIndex: 1529862 entries, 0 to 1529861\n",
      "Data columns (total 26 columns):\n",
      " #   Column      Non-Null Count    Dtype \n",
      "---  ------      --------------    ----- \n",
      " 0   ssn         1529862 non-null  object\n",
      " 1   cc_num      1529862 non-null  object\n",
      " 2   first       1529862 non-null  object\n",
      " 3   last        1529862 non-null  object\n",
      " 4   gender      1529862 non-null  object\n",
      " 5   street      1529862 non-null  object\n",
      " 6   city        1529862 non-null  object\n",
      " 7   state       1529862 non-null  object\n",
      " 8   zip         1529862 non-null  object\n",
      " 9   lat         1529862 non-null  object\n",
      " 10  long        1529862 non-null  object\n",
      " 11  city_pop    1529862 non-null  object\n",
      " 12  job         1529862 non-null  object\n",
      " 13  dob         1529862 non-null  object\n",
      " 14  acct_num    1529862 non-null  object\n",
      " 15  profile     1529862 non-null  object\n",
      " 16  trans_num   1529362 non-null  object\n",
      " 17  trans_date  1529362 non-null  object\n",
      " 18  trans_time  1529362 non-null  object\n",
      " 19  unix_time   1529362 non-null  object\n",
      " 20  category    1529362 non-null  object\n",
      " 21  amt         1529362 non-null  object\n",
      " 22  is_fraud    1529362 non-null  object\n",
      " 23  merchant    1529362 non-null  object\n",
      " 24  merch_lat   1529362 non-null  object\n",
      " 25  merch_long  1529362 non-null  object\n",
      "dtypes: object(26)\n",
      "memory usage: 303.5+ MB\n"
     ]
    }
   ],
   "source": [
    "df.info()"
   ]
  },
  {
   "cell_type": "code",
   "execution_count": 6,
   "id": "8e120354",
   "metadata": {},
   "outputs": [],
   "source": [
    "df = df.dropna()"
   ]
  },
  {
   "cell_type": "code",
   "execution_count": 7,
   "id": "a6b6aa86",
   "metadata": {},
   "outputs": [
    {
     "data": {
      "text/plain": [
       "ssn           0\n",
       "cc_num        0\n",
       "first         0\n",
       "last          0\n",
       "gender        0\n",
       "street        0\n",
       "city          0\n",
       "state         0\n",
       "zip           0\n",
       "lat           0\n",
       "long          0\n",
       "city_pop      0\n",
       "job           0\n",
       "dob           0\n",
       "acct_num      0\n",
       "profile       0\n",
       "trans_num     0\n",
       "trans_date    0\n",
       "trans_time    0\n",
       "unix_time     0\n",
       "category      0\n",
       "amt           0\n",
       "is_fraud      0\n",
       "merchant      0\n",
       "merch_lat     0\n",
       "merch_long    0\n",
       "dtype: int64"
      ]
     },
     "execution_count": 7,
     "metadata": {},
     "output_type": "execute_result"
    }
   ],
   "source": [
    "df.isna().sum()"
   ]
  },
  {
   "cell_type": "code",
   "execution_count": 8,
   "id": "88251af2",
   "metadata": {},
   "outputs": [],
   "source": [
    "#Calculate percentage of fraud transactions in each spending category\n",
    "fraud_txn = (df.query(\"is_fraud == 1\")['category']\n",
    "             .value_counts(normalize = False)\n",
    "             .to_frame()\n",
    "             .reset_index())\n",
    "not_fraud_txn = (df.query(\"is_fraud == 0\")['category']\n",
    "                 .value_counts(normalize = False)\n",
    "                 .to_frame()\n",
    "                 .reset_index())\n",
    "fraud_txn.columns = ['category','fraud_txn']\n",
    "not_fraud_txn.columns = ['category','not_fraud_txn']\n",
    "category_txn =  fraud_txn.merge(not_fraud_txn, on = 'category')\n",
    "category_txn['percentage_fraud'] = (category_txn['fraud_txn']/category_txn['not_fraud_txn'])*100"
   ]
  },
  {
   "cell_type": "code",
   "execution_count": 9,
   "id": "0b0b9d8a",
   "metadata": {},
   "outputs": [],
   "source": [
    "pio.renderers\n",
    "pio.renderers.default = \"svg\""
   ]
  },
  {
   "cell_type": "code",
   "execution_count": 10,
   "id": "fc353daa",
   "metadata": {},
   "outputs": [
    {
     "data": {
      "image/svg+xml": [
       "<svg class=\"main-svg\" xmlns=\"http://www.w3.org/2000/svg\" xmlns:xlink=\"http://www.w3.org/1999/xlink\" width=\"700\" height=\"500\" style=\"\" viewBox=\"0 0 700 500\"><rect x=\"0\" y=\"0\" width=\"700\" height=\"500\" style=\"fill: rgb(255, 255, 255); fill-opacity: 1;\"/><defs id=\"defs-05bc2e\"><g class=\"clips\"><clipPath id=\"clip05bc2exyplot\" class=\"plotclip\"><rect width=\"481\" height=\"360\"/></clipPath><clipPath class=\"axesclip\" id=\"clip05bc2ex\"><rect x=\"139\" y=\"0\" width=\"481\" height=\"500\"/></clipPath><clipPath class=\"axesclip\" id=\"clip05bc2ey\"><rect x=\"0\" y=\"60\" width=\"700\" height=\"360\"/></clipPath><clipPath class=\"axesclip\" id=\"clip05bc2exy\"><rect x=\"139\" y=\"60\" width=\"481\" height=\"360\"/></clipPath></g><g class=\"gradients\"/><g class=\"patterns\"/></defs><g class=\"bglayer\"><rect class=\"bg\" x=\"139\" y=\"60\" width=\"481\" height=\"360\" style=\"fill: rgb(229, 236, 246); fill-opacity: 1; stroke-width: 0;\"/></g><g class=\"layer-below\"><g class=\"imagelayer\"/><g class=\"shapelayer\"/></g><g class=\"cartesianlayer\"><g class=\"subplot xy\"><g class=\"layer-subplot\"><g class=\"shapelayer\"/><g class=\"imagelayer\"/></g><g class=\"gridlayer\"><g class=\"x\"><path class=\"xgrid crisp\" transform=\"translate(218.31,0)\" d=\"M0,60v360\" style=\"stroke: rgb(255, 255, 255); stroke-opacity: 1; stroke-width: 1px;\"/><path class=\"xgrid crisp\" transform=\"translate(297.61,0)\" d=\"M0,60v360\" style=\"stroke: rgb(255, 255, 255); stroke-opacity: 1; stroke-width: 1px;\"/><path class=\"xgrid crisp\" transform=\"translate(376.91999999999996,0)\" d=\"M0,60v360\" style=\"stroke: rgb(255, 255, 255); stroke-opacity: 1; stroke-width: 1px;\"/><path class=\"xgrid crisp\" transform=\"translate(456.23,0)\" d=\"M0,60v360\" style=\"stroke: rgb(255, 255, 255); stroke-opacity: 1; stroke-width: 1px;\"/><path class=\"xgrid crisp\" transform=\"translate(535.54,0)\" d=\"M0,60v360\" style=\"stroke: rgb(255, 255, 255); stroke-opacity: 1; stroke-width: 1px;\"/><path class=\"xgrid crisp\" transform=\"translate(614.8399999999999,0)\" d=\"M0,60v360\" style=\"stroke: rgb(255, 255, 255); stroke-opacity: 1; stroke-width: 1px;\"/></g><g class=\"y\"/></g><g class=\"zerolinelayer\"><path class=\"xzl zl crisp\" transform=\"translate(139,0)\" d=\"M0,60v360\" style=\"stroke: rgb(255, 255, 255); stroke-opacity: 1; stroke-width: 2px;\"/></g><path class=\"xlines-below\"/><path class=\"ylines-below\"/><g class=\"overlines-below\"/><g class=\"xaxislayer-below\"/><g class=\"yaxislayer-below\"/><g class=\"overaxes-below\"/><g class=\"plot\" transform=\"translate(139,60)\" clip-path=\"url(#clip05bc2exyplot)\"><g class=\"barlayer mlayer\"><g class=\"trace bars\" style=\"opacity: 1;\"><g class=\"points\"><g class=\"point\"><path d=\"M0,357.43V336.86H456.95V357.43Z\" style=\"vector-effect: non-scaling-stroke; opacity: 1; stroke-width: 0.5px; fill: rgb(99, 110, 250); fill-opacity: 1; stroke: rgb(229, 236, 246); stroke-opacity: 1;\"/></g><g class=\"point\"><path d=\"M0,331.71V311.14H418.55V331.71Z\" style=\"vector-effect: non-scaling-stroke; opacity: 1; stroke-width: 0.5px; fill: rgb(99, 110, 250); fill-opacity: 1; stroke: rgb(229, 236, 246); stroke-opacity: 1;\"/></g><g class=\"point\"><path d=\"M0,306V285.43H354.3V306Z\" style=\"vector-effect: non-scaling-stroke; opacity: 1; stroke-width: 0.5px; fill: rgb(99, 110, 250); fill-opacity: 1; stroke: rgb(229, 236, 246); stroke-opacity: 1;\"/></g><g class=\"point\"><path d=\"M0,280.29V259.71H171.05V280.29Z\" style=\"vector-effect: non-scaling-stroke; opacity: 1; stroke-width: 0.5px; fill: rgb(99, 110, 250); fill-opacity: 1; stroke: rgb(229, 236, 246); stroke-opacity: 1;\"/></g><g class=\"point\"><path d=\"M0,254.57V234H143.64V254.57Z\" style=\"vector-effect: non-scaling-stroke; opacity: 1; stroke-width: 0.5px; fill: rgb(99, 110, 250); fill-opacity: 1; stroke: rgb(229, 236, 246); stroke-opacity: 1;\"/></g><g class=\"point\"><path d=\"M0,228.86V208.29H76.26V228.86Z\" style=\"vector-effect: non-scaling-stroke; opacity: 1; stroke-width: 0.5px; fill: rgb(99, 110, 250); fill-opacity: 1; stroke: rgb(229, 236, 246); stroke-opacity: 1;\"/></g><g class=\"point\"><path d=\"M0,203.14V182.57H74.37V203.14Z\" style=\"vector-effect: non-scaling-stroke; opacity: 1; stroke-width: 0.5px; fill: rgb(99, 110, 250); fill-opacity: 1; stroke: rgb(229, 236, 246); stroke-opacity: 1;\"/></g><g class=\"point\"><path d=\"M0,177.43V156.86H58.51V177.43Z\" style=\"vector-effect: non-scaling-stroke; opacity: 1; stroke-width: 0.5px; fill: rgb(99, 110, 250); fill-opacity: 1; stroke: rgb(229, 236, 246); stroke-opacity: 1;\"/></g><g class=\"point\"><path d=\"M0,151.71V131.14H53.5V151.71Z\" style=\"vector-effect: non-scaling-stroke; opacity: 1; stroke-width: 0.5px; fill: rgb(99, 110, 250); fill-opacity: 1; stroke: rgb(229, 236, 246); stroke-opacity: 1;\"/></g><g class=\"point\"><path d=\"M0,126V105.43H49.25V126Z\" style=\"vector-effect: non-scaling-stroke; opacity: 1; stroke-width: 0.5px; fill: rgb(99, 110, 250); fill-opacity: 1; stroke: rgb(229, 236, 246); stroke-opacity: 1;\"/></g><g class=\"point\"><path d=\"M0,100.29V79.71H46.46V100.29Z\" style=\"vector-effect: non-scaling-stroke; opacity: 1; stroke-width: 0.5px; fill: rgb(99, 110, 250); fill-opacity: 1; stroke: rgb(229, 236, 246); stroke-opacity: 1;\"/></g><g class=\"point\"><path d=\"M0,74.57V54H46.29V74.57Z\" style=\"vector-effect: non-scaling-stroke; opacity: 1; stroke-width: 0.5px; fill: rgb(99, 110, 250); fill-opacity: 1; stroke: rgb(229, 236, 246); stroke-opacity: 1;\"/></g><g class=\"point\"><path d=\"M0,48.86V28.29H44.31V48.86Z\" style=\"vector-effect: non-scaling-stroke; opacity: 1; stroke-width: 0.5px; fill: rgb(99, 110, 250); fill-opacity: 1; stroke: rgb(229, 236, 246); stroke-opacity: 1;\"/></g><g class=\"point\"><path d=\"M0,23.14V2.57H37.37V23.14Z\" style=\"vector-effect: non-scaling-stroke; opacity: 1; stroke-width: 0.5px; fill: rgb(99, 110, 250); fill-opacity: 1; stroke: rgb(229, 236, 246); stroke-opacity: 1;\"/></g></g></g></g></g><g class=\"overplot\"/><path class=\"xlines-above crisp\" d=\"M0,0\" style=\"fill: none;\"/><path class=\"ylines-above crisp\" d=\"M0,0\" style=\"fill: none;\"/><g class=\"overlines-above\"/><g class=\"xaxislayer-above\"><g class=\"xtick\"><text text-anchor=\"middle\" x=\"0\" y=\"433\" transform=\"translate(139,0)\" style=\"font-family: 'Courier New', monospace; font-size: 12px; fill: rgb(0, 0, 0); fill-opacity: 1; white-space: pre; opacity: 1;\">0</text></g><g class=\"xtick\"><text text-anchor=\"middle\" x=\"0\" y=\"433\" style=\"font-family: 'Courier New', monospace; font-size: 12px; fill: rgb(0, 0, 0); fill-opacity: 1; white-space: pre; opacity: 1;\" transform=\"translate(218.31,0)\">0.2</text></g><g class=\"xtick\"><text text-anchor=\"middle\" x=\"0\" y=\"433\" style=\"font-family: 'Courier New', monospace; font-size: 12px; fill: rgb(0, 0, 0); fill-opacity: 1; white-space: pre; opacity: 1;\" transform=\"translate(297.61,0)\">0.4</text></g><g class=\"xtick\"><text text-anchor=\"middle\" x=\"0\" y=\"433\" style=\"font-family: 'Courier New', monospace; font-size: 12px; fill: rgb(0, 0, 0); fill-opacity: 1; white-space: pre; opacity: 1;\" transform=\"translate(376.91999999999996,0)\">0.6</text></g><g class=\"xtick\"><text text-anchor=\"middle\" x=\"0\" y=\"433\" style=\"font-family: 'Courier New', monospace; font-size: 12px; fill: rgb(0, 0, 0); fill-opacity: 1; white-space: pre; opacity: 1;\" transform=\"translate(456.23,0)\">0.8</text></g><g class=\"xtick\"><text text-anchor=\"middle\" x=\"0\" y=\"433\" style=\"font-family: 'Courier New', monospace; font-size: 12px; fill: rgb(0, 0, 0); fill-opacity: 1; white-space: pre; opacity: 1;\" transform=\"translate(535.54,0)\">1</text></g><g class=\"xtick\"><text text-anchor=\"middle\" x=\"0\" y=\"433\" style=\"font-family: 'Courier New', monospace; font-size: 12px; fill: rgb(0, 0, 0); fill-opacity: 1; white-space: pre; opacity: 1;\" transform=\"translate(614.8399999999999,0)\">1.2</text></g></g><g class=\"yaxislayer-above\"><g class=\"ytick\"><text text-anchor=\"end\" x=\"138\" y=\"4.199999999999999\" transform=\"translate(0,407.14)\" style=\"font-family: 'Courier New', monospace; font-size: 12px; fill: rgb(0, 0, 0); fill-opacity: 1; white-space: pre; opacity: 1;\">shopping_net</text></g><g class=\"ytick\"><text text-anchor=\"end\" x=\"138\" y=\"4.199999999999999\" transform=\"translate(0,381.43)\" style=\"font-family: 'Courier New', monospace; font-size: 12px; fill: rgb(0, 0, 0); fill-opacity: 1; white-space: pre; opacity: 1;\">misc_net</text></g><g class=\"ytick\"><text text-anchor=\"end\" x=\"138\" y=\"4.199999999999999\" transform=\"translate(0,355.71)\" style=\"font-family: 'Courier New', monospace; font-size: 12px; fill: rgb(0, 0, 0); fill-opacity: 1; white-space: pre; opacity: 1;\">grocery_pos</text></g><g class=\"ytick\"><text text-anchor=\"end\" x=\"138\" y=\"4.199999999999999\" transform=\"translate(0,330)\" style=\"font-family: 'Courier New', monospace; font-size: 12px; fill: rgb(0, 0, 0); fill-opacity: 1; white-space: pre; opacity: 1;\">shopping_pos</text></g><g class=\"ytick\"><text text-anchor=\"end\" x=\"138\" y=\"4.199999999999999\" transform=\"translate(0,304.28999999999996)\" style=\"font-family: 'Courier New', monospace; font-size: 12px; fill: rgb(0, 0, 0); fill-opacity: 1; white-space: pre; opacity: 1;\">gas_transport</text></g><g class=\"ytick\"><text text-anchor=\"end\" x=\"138\" y=\"4.199999999999999\" transform=\"translate(0,278.57)\" style=\"font-family: 'Courier New', monospace; font-size: 12px; fill: rgb(0, 0, 0); fill-opacity: 1; white-space: pre; opacity: 1;\">misc_pos</text></g><g class=\"ytick\"><text text-anchor=\"end\" x=\"138\" y=\"4.199999999999999\" transform=\"translate(0,252.86)\" style=\"font-family: 'Courier New', monospace; font-size: 12px; fill: rgb(0, 0, 0); fill-opacity: 1; white-space: pre; opacity: 1;\">travel</text></g><g class=\"ytick\"><text text-anchor=\"end\" x=\"138\" y=\"4.199999999999999\" transform=\"translate(0,227.14)\" style=\"font-family: 'Courier New', monospace; font-size: 12px; fill: rgb(0, 0, 0); fill-opacity: 1; white-space: pre; opacity: 1;\">personal_care</text></g><g class=\"ytick\"><text text-anchor=\"end\" x=\"138\" y=\"4.199999999999999\" transform=\"translate(0,201.43)\" style=\"font-family: 'Courier New', monospace; font-size: 12px; fill: rgb(0, 0, 0); fill-opacity: 1; white-space: pre; opacity: 1;\">entertainment</text></g><g class=\"ytick\"><text text-anchor=\"end\" x=\"138\" y=\"4.199999999999999\" transform=\"translate(0,175.70999999999998)\" style=\"font-family: 'Courier New', monospace; font-size: 12px; fill: rgb(0, 0, 0); fill-opacity: 1; white-space: pre; opacity: 1;\">grocery_net</text></g><g class=\"ytick\"><text text-anchor=\"end\" x=\"138\" y=\"4.199999999999999\" transform=\"translate(0,150)\" style=\"font-family: 'Courier New', monospace; font-size: 12px; fill: rgb(0, 0, 0); fill-opacity: 1; white-space: pre; opacity: 1;\">kids_pets</text></g><g class=\"ytick\"><text text-anchor=\"end\" x=\"138\" y=\"4.199999999999999\" transform=\"translate(0,124.29)\" style=\"font-family: 'Courier New', monospace; font-size: 12px; fill: rgb(0, 0, 0); fill-opacity: 1; white-space: pre; opacity: 1;\">food_dining</text></g><g class=\"ytick\"><text text-anchor=\"end\" x=\"138\" y=\"4.199999999999999\" transform=\"translate(0,98.57)\" style=\"font-family: 'Courier New', monospace; font-size: 12px; fill: rgb(0, 0, 0); fill-opacity: 1; white-space: pre; opacity: 1;\">health_fitness</text></g><g class=\"ytick\"><text text-anchor=\"end\" x=\"138\" y=\"4.199999999999999\" transform=\"translate(0,72.86)\" style=\"font-family: 'Courier New', monospace; font-size: 12px; fill: rgb(0, 0, 0); fill-opacity: 1; white-space: pre; opacity: 1;\">home</text></g></g><g class=\"overaxes-above\"/></g></g><g class=\"polarlayer\"/><g class=\"smithlayer\"/><g class=\"ternarylayer\"/><g class=\"geolayer\"/><g class=\"funnelarealayer\"/><g class=\"pielayer\"/><g class=\"iciclelayer\"/><g class=\"treemaplayer\"/><g class=\"sunburstlayer\"/><g class=\"glimages\"/><defs id=\"topdefs-05bc2e\"><g class=\"clips\"/></defs><g class=\"layer-above\"><g class=\"imagelayer\"/><g class=\"shapelayer\"/></g><g class=\"infolayer\"><g class=\"g-gtitle\"><text class=\"gtitle\" x=\"35\" y=\"30\" text-anchor=\"start\" dy=\"0em\" style=\"font-family: 'Courier New', monospace; font-size: 17px; fill: rgb(0, 0, 0); opacity: 1; font-weight: normal; white-space: pre;\">Fradulent over non-fraudulent transactions in each category</text></g><g class=\"g-xtitle\"><text class=\"xtitle\" x=\"379.5\" y=\"461.8\" text-anchor=\"middle\" style=\"font-family: 'Courier New', monospace; font-size: 14px; fill: rgb(0, 0, 0); opacity: 1; font-weight: normal; white-space: pre;\">% Fraudulent Transactions</text></g><g class=\"g-ytitle\"><text class=\"ytitle\" transform=\"rotate(-90,12.371875000000003,240)\" x=\"12.371875000000003\" y=\"240\" text-anchor=\"middle\" style=\"font-family: 'Courier New', monospace; font-size: 14px; fill: rgb(0, 0, 0); opacity: 1; font-weight: normal; white-space: pre;\">Spending Category</text></g></g></svg>"
      ]
     },
     "metadata": {},
     "output_type": "display_data"
    }
   ],
   "source": [
    "#Plot percentage of fraud transactions in each spending categor\n",
    "category_txn_sorted = category_txn.sort_values('percentage_fraud', ascending = False)\n",
    "fig = px.bar(category_txn_sorted, x='percentage_fraud', y='category', orientation='h')\n",
    "\n",
    "fig.update_layout(\n",
    "    title=\"Fradulent over non-fraudulent transactions in each category\",\n",
    "    xaxis_title=\"% Fraudulent Transactions\",\n",
    "    yaxis_title=\"Spending Category\",\n",
    "    font=dict(\n",
    "        family=\"Courier New, monospace\",\n",
    "        size=12,\n",
    "        color=\"black\"\n",
    "    )\n",
    ")\n",
    "\n",
    "fig.show()"
   ]
  },
  {
   "cell_type": "markdown",
   "id": "b2091257",
   "metadata": {},
   "source": [
    "It can be seen from the plot that a very small percentage of the transactions are fraudulent. This highlights a severe class imbalance where one of the classes (fraudulent transactions) constitutes a little over 1% of the total dataset. Therefore, there is a need for feature engineering and data augmentation methods for improving model performance."
   ]
  },
  {
   "cell_type": "markdown",
   "id": "9b5312ec",
   "metadata": {},
   "source": [
    "# Feature Engineering"
   ]
  },
  {
   "cell_type": "markdown",
   "id": "abbf64c6",
   "metadata": {},
   "source": [
    "Typically, fraudulent transactions will occur when an individual is not actively monitoring their accounts. Accordingly, it makes sense to explore the time at which fraudulent and non fraudulent transactions occur. Furthermore, it's also important to visualize the dollar value of each of the fraudulent transaction as compared to the non-fraudulent transactions. The visualizations can then be used to define new features that can improve model performance when classifying fraudulent from non fraudulent transactions. "
   ]
  },
  {
   "cell_type": "code",
   "execution_count": 11,
   "id": "793beb58",
   "metadata": {},
   "outputs": [],
   "source": [
    "df[\"trans_time\"]= pd.to_datetime(df[\"trans_time\"])"
   ]
  },
  {
   "cell_type": "code",
   "execution_count": 12,
   "id": "6e9de438",
   "metadata": {},
   "outputs": [],
   "source": [
    "df['hour'] = df.trans_time.dt.hour"
   ]
  },
  {
   "cell_type": "code",
   "execution_count": 13,
   "id": "fb5cef89",
   "metadata": {},
   "outputs": [],
   "source": [
    "pio.renderers\n",
    "pio.renderers.default = \"svg\""
   ]
  },
  {
   "cell_type": "code",
   "execution_count": 14,
   "id": "bd4485cf",
   "metadata": {},
   "outputs": [
    {
     "data": {
      "text/plain": [
       "<AxesSubplot:xlabel='hour', ylabel='amt'>"
      ]
     },
     "execution_count": 14,
     "metadata": {},
     "output_type": "execute_result"
    },
    {
     "data": {
      "image/png": "[encoded data removed]",
      "text/plain": [
       "<Figure size 432x288 with 1 Axes>"
      ]
     },
     "metadata": {
      "needs_background": "light"
     },
     "output_type": "display_data"
    }
   ],
   "source": [
    "fraud_txn2 = (df.query(\"is_fraud == 1\"))\n",
    "sns.scatterplot(data=fraud_txn2, x=\"hour\", y=\"amt\", hue=\"is_fraud\")\n",
    "# fig = px.scatter(fraud_txn2, x='hour', y='amt')\n",
    "\n",
    "# fig.update_layout(\n",
    "#     title=\"Scatter plot of amount versus hour for fraudulent transactions\",\n",
    "#     xaxis_title=\"Hour\",\n",
    "#     yaxis_title=\"Amount (US $)\",\n",
    "#     font=dict(\n",
    "#         family=\"Courier New, monospace\",\n",
    "#         size=12,\n",
    "#         color=\"black\"\n",
    "#     )\n",
    "# )\n",
    "\n",
    "# fig.show()"
   ]
  },
  {
   "cell_type": "code",
   "execution_count": 15,
   "id": "32f75520",
   "metadata": {},
   "outputs": [],
   "source": [
    "df['abnormal_hour'] = 0\n",
    "df.loc[df.hour < 4, 'abnormal_hour'] = 1\n",
    "df.loc[df.hour > 22, 'abnormal_hour'] = 1"
   ]
  },
  {
   "cell_type": "code",
   "execution_count": 16,
   "id": "42e39e63",
   "metadata": {},
   "outputs": [],
   "source": [
    "features = ['trans_num', 'hour', 'category', 'amt', 'merchant', 'job','abnormal_hour']\n",
    "X = df[features].set_index(\"trans_num\")\n",
    "y = df['is_fraud']\n",
    "y = y.astype('int')\n",
    "#print('X shape:{}\\ny shape:{}'.format(X.shape,y.shape))"
   ]
  },
  {
   "cell_type": "code",
   "execution_count": 17,
   "id": "ba5833fe",
   "metadata": {},
   "outputs": [],
   "source": [
    "enc = OrdinalEncoder(dtype=np.int64)\n",
    "enc.fit(X.loc[:,['category','merchant','job','hour']])\n",
    "\n",
    "X.loc[:, ['category','merchant','job','hour']] = enc.transform(X[['category','merchant','job','hour']])"
   ]
  },
  {
   "cell_type": "code",
   "execution_count": 18,
   "id": "5e68f543",
   "metadata": {},
   "outputs": [
    {
     "name": "stdout",
     "output_type": "stream",
     "text": [
      "<class 'pandas.core.frame.DataFrame'>\n",
      "Index: 1529362 entries, 6b024ce35dcc06e8d0cc28c3f2fd51af to 437d12b3c9c4f094a209e769200661b1\n",
      "Data columns (total 6 columns):\n",
      " #   Column         Non-Null Count    Dtype \n",
      "---  ------         --------------    ----- \n",
      " 0   hour           1529362 non-null  int64 \n",
      " 1   category       1529362 non-null  int64 \n",
      " 2   amt            1529362 non-null  object\n",
      " 3   merchant       1529362 non-null  int64 \n",
      " 4   job            1529362 non-null  int64 \n",
      " 5   abnormal_hour  1529362 non-null  int64 \n",
      "dtypes: int64(5), object(1)\n",
      "memory usage: 81.7+ MB\n"
     ]
    }
   ],
   "source": [
    "X.info()"
   ]
  },
  {
   "cell_type": "code",
   "execution_count": 19,
   "id": "46482593",
   "metadata": {},
   "outputs": [],
   "source": [
    "X['amt'] = X.amt.astype('float');"
   ]
  },
  {
   "cell_type": "code",
   "execution_count": 20,
   "id": "8c8948be",
   "metadata": {},
   "outputs": [],
   "source": [
    "X_train, X_test, y_train, y_test = train_test_split(X, y, test_size=0.2, stratify=y)"
   ]
  },
  {
   "cell_type": "code",
   "execution_count": 21,
   "id": "f413342e",
   "metadata": {},
   "outputs": [
    {
     "name": "stderr",
     "output_type": "stream",
     "text": [
      "E:\\anaconda_installer\\anaconda3\\lib\\site-packages\\xgboost\\sklearn.py:1224: UserWarning:\n",
      "\n",
      "The use of label encoder in XGBClassifier is deprecated and will be removed in a future release. To remove this warning, do the following: 1) Pass option use_label_encoder=False when constructing XGBClassifier object; and 2) Encode your labels (y) as integers starting with 0, i.e. 0, 1, 2, ..., [num_class - 1].\n",
      "\n",
      "E:\\anaconda_installer\\anaconda3\\lib\\site-packages\\xgboost\\data.py:250: FutureWarning:\n",
      "\n",
      "pandas.Int64Index is deprecated and will be removed from pandas in a future version. Use pandas.Index with the appropriate dtype instead.\n",
      "\n"
     ]
    },
    {
     "name": "stdout",
     "output_type": "stream",
     "text": [
      "[20:25:31] WARNING: C:\\Windows\\Temp\\abs_557yfx631l\\croots\\recipe\\xgboost-split_1659548953302\\work\\src\\learner.cc:1115: Starting in XGBoost 1.3.0, the default evaluation metric used with the objective 'binary:logistic' was changed from 'error' to 'logloss'. Explicitly set eval_metric if you'd like to restore the old behavior.\n"
     ]
    }
   ],
   "source": [
    "bst = XGBClassifier(n_estimators=2, max_depth=2, learning_rate=1, objective='binary:logistic')\n",
    "bst.fit(X_train, y_train)\n",
    "\n",
    "y_pred = bst.predict(X_test)"
   ]
  },
  {
   "cell_type": "code",
   "execution_count": 22,
   "id": "b89e1e8a",
   "metadata": {},
   "outputs": [
    {
     "data": {
      "text/plain": [
       "<AxesSubplot:>"
      ]
     },
     "execution_count": 22,
     "metadata": {},
     "output_type": "execute_result"
    },
    {
     "data": {
      "image/png": "[encoded data removed]",
      "text/plain": [
       "<Figure size 576x432 with 2 Axes>"
      ]
     },
     "metadata": {
      "needs_background": "light"
     },
     "output_type": "display_data"
    }
   ],
   "source": [
    "fig = plt.figure(figsize=(8,6))\n",
    "cfs_matrix = confusion_matrix(y_test, y_pred)\n",
    "sns.heatmap(cfs_matrix, cmap='viridis', annot=True, fmt='d', annot_kws=dict(fontsize=14))"
   ]
  },
  {
   "cell_type": "code",
   "execution_count": 23,
   "id": "d09a1d13",
   "metadata": {},
   "outputs": [
    {
     "name": "stdout",
     "output_type": "stream",
     "text": [
      "              precision    recall  f1-score   support\n",
      "\n",
      "           0       1.00      1.00      1.00    304750\n",
      "           1       0.65      0.16      0.26      1123\n",
      "\n",
      "    accuracy                           1.00    305873\n",
      "   macro avg       0.82      0.58      0.63    305873\n",
      "weighted avg       1.00      1.00      1.00    305873\n",
      "\n"
     ]
    }
   ],
   "source": [
    "print(classification_report(y_test, y_pred))"
   ]
  },
  {
   "cell_type": "markdown",
   "id": "0bf73e41",
   "metadata": {},
   "source": [
    "# Synthetic Minority Oversampling Technique (SMOTE)"
   ]
  },
  {
   "cell_type": "markdown",
   "id": "86122b0c",
   "metadata": {},
   "source": [
    "Imbalanced classes pose a significant challenge for machine learning techniques as they would ignore and hence have poor performance on the minority class when performance on the minority class is the most significant metric. An approach for dealing with such class imbalace is to oversample the minority class. Synthetic Minority Oversampling Technique (SMOTE) is one such technique where new records can be synthesized from existing records."
   ]
  },
  {
   "cell_type": "code",
   "execution_count": 24,
   "id": "fa946b63",
   "metadata": {},
   "outputs": [
    {
     "name": "stdout",
     "output_type": "stream",
     "text": [
      "Original dataset shape Counter({0: 1218999, 1: 4490})\n",
      "Resampled dataset shape Counter({0: 1218999, 1: 1218999})\n"
     ]
    }
   ],
   "source": [
    "smote = SMOTE(sampling_strategy={1:1218999}, random_state=42)\n",
    "X_train_smote, y_train_smote = smote.fit_resample(X_train, y_train)\n",
    "print(\"Original dataset shape %s\" % Counter(y_train))\n",
    "print(\"Resampled dataset shape %s\" % Counter(y_train_smote))"
   ]
  },
  {
   "cell_type": "code",
   "execution_count": 25,
   "id": "2a89838e",
   "metadata": {},
   "outputs": [
    {
     "name": "stderr",
     "output_type": "stream",
     "text": [
      "E:\\anaconda_installer\\anaconda3\\lib\\site-packages\\xgboost\\sklearn.py:1224: UserWarning:\n",
      "\n",
      "The use of label encoder in XGBClassifier is deprecated and will be removed in a future release. To remove this warning, do the following: 1) Pass option use_label_encoder=False when constructing XGBClassifier object; and 2) Encode your labels (y) as integers starting with 0, i.e. 0, 1, 2, ..., [num_class - 1].\n",
      "\n",
      "E:\\anaconda_installer\\anaconda3\\lib\\site-packages\\xgboost\\data.py:250: FutureWarning:\n",
      "\n",
      "pandas.Int64Index is deprecated and will be removed from pandas in a future version. Use pandas.Index with the appropriate dtype instead.\n",
      "\n"
     ]
    },
    {
     "name": "stdout",
     "output_type": "stream",
     "text": [
      "[20:25:35] WARNING: C:\\Windows\\Temp\\abs_557yfx631l\\croots\\recipe\\xgboost-split_1659548953302\\work\\src\\learner.cc:1115: Starting in XGBoost 1.3.0, the default evaluation metric used with the objective 'binary:logistic' was changed from 'error' to 'logloss'. Explicitly set eval_metric if you'd like to restore the old behavior.\n"
     ]
    }
   ],
   "source": [
    "bst_smote = XGBClassifier(n_estimators=2, max_depth=2, learning_rate=1, objective='binary:logistic')\n",
    "bst_smote.fit(X_train_smote, y_train_smote)\n",
    "\n",
    "y_pred_smote = bst.predict(X_test)"
   ]
  },
  {
   "cell_type": "code",
   "execution_count": 26,
   "id": "9a9cdf9b",
   "metadata": {},
   "outputs": [
    {
     "name": "stdout",
     "output_type": "stream",
     "text": [
      "=====================SMOTE=====================\n"
     ]
    },
    {
     "data": {
      "text/plain": [
       "<AxesSubplot:>"
      ]
     },
     "execution_count": 26,
     "metadata": {},
     "output_type": "execute_result"
    },
    {
     "data": {
      "image/png": "[encoded data removed]",
      "text/plain": [
       "<Figure size 576x432 with 2 Axes>"
      ]
     },
     "metadata": {
      "needs_background": "light"
     },
     "output_type": "display_data"
    }
   ],
   "source": [
    "print(\"=====================SMOTE=====================\")\n",
    "fig = plt.figure(figsize=(8,6))\n",
    "cfs_matrix = confusion_matrix(y_test, y_pred_smote)\n",
    "sns.heatmap(cfs_matrix, cmap='viridis', annot=True, fmt='d', annot_kws=dict(fontsize=14))"
   ]
  },
  {
   "cell_type": "code",
   "execution_count": 27,
   "id": "74cba313",
   "metadata": {},
   "outputs": [
    {
     "name": "stdout",
     "output_type": "stream",
     "text": [
      "=====================SMOTE=====================\n",
      "              precision    recall  f1-score   support\n",
      "\n",
      "           0       1.00      1.00      1.00    304750\n",
      "           1       0.65      0.16      0.26      1123\n",
      "\n",
      "    accuracy                           1.00    305873\n",
      "   macro avg       0.82      0.58      0.63    305873\n",
      "weighted avg       1.00      1.00      1.00    305873\n",
      "\n"
     ]
    }
   ],
   "source": [
    "print(\"=====================SMOTE=====================\")\n",
    "print(classification_report(y_test, y_pred_smote))"
   ]
  },
  {
   "cell_type": "code",
   "execution_count": null,
   "id": "0743b5f9",
   "metadata": {},
   "outputs": [],
   "source": []
  }
 ],
 "metadata": {
  "kernelspec": {
   "display_name": "Python 3 (ipykernel)",
   "language": "python",
   "name": "python3"
  },
  "language_info": {
   "codemirror_mode": {
    "name": "ipython",
    "version": 3
   },
   "file_extension": ".py",
   "mimetype": "text/x-python",
   "name": "python",
   "nbconvert_exporter": "python",
   "pygments_lexer": "ipython3",
   "version": "3.9.12"
  }
 },
 "nbformat": 4,
 "nbformat_minor": 5
}
